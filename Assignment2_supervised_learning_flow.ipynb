{
 "cells": [
  {
   "cell_type": "markdown",
   "id": "ec202ada",
   "metadata": {},
   "source": [
    "# Assignment2 - Supervised Learning flow"
   ]
  },
  {
   "cell_type": "markdown",
   "id": "b06a2810",
   "metadata": {},
   "source": [
    "# Part 1(a) Student details:\n",
    "* Please write the First-Name, First letter of Last-Name and last 4 digits of the i.d. for each student. "
   ]
  },
  {
   "cell_type": "code",
   "execution_count": null,
   "id": "ca16486b",
   "metadata": {},
   "outputs": [],
   "source": [
    "# stundent details example: John S. 9812\n",
    "#                       student details 1: \n",
    "# (if exists)           student details 2: \n",
    "# (if exists)           student details 3: \n",
    "# (if exists&premitted) student details 4: "
   ]
  },
  {
   "cell_type": "markdown",
   "id": "abb64166-b32e-4b86-a7ee-84106c8b3a92",
   "metadata": {},
   "source": [
    "## Part 1(b) - Chat-GPT/other AI-agent/other assistance used:\n",
    "* If you changed the prompt until you got a satisfying answer, please add all versions\n",
    "* don't delete \"pre\" tags, so new-line is supported\n",
    "* double click the following markdown cell to change\n",
    "* press shift+enter to view\n",
    "* Add information:"
   ]
  },
  {
   "cell_type": "markdown",
   "id": "ea93f0d3-7aa1-4a95-b084-395f5f7c6c0c",
   "metadata": {},
   "source": [
    "#### Add information in this Markdown cell (double click to change, shift-enter to view)\n",
    "<pre>   \n",
    "AI agent name:\n",
    "Goal:\n",
    "Propmpt1:\n",
    "    \n",
    "Propmpt2:\n",
    "    \n",
    "Propmpt3: \n",
    "\n",
    "\n",
    "AI agent name 2:\n",
    "Goal:\n",
    "Propmpt1:\n",
    "    \n",
    "Propmpt2:\n",
    "    \n",
    "Propmpt3: \n",
    "\n",
    "Other assistanse:    \n",
    "</pre>"
   ]
  },
  {
   "cell_type": "markdown",
   "id": "0e4fbaab-e5a5-40ed-be0f-9a2cb7931a4b",
   "metadata": {},
   "source": [
    "## Part 1(c) - Learning Problem and dataset explaination.\n",
    "* Please explain in one paragraph\n",
    "* don't delete \"pre\" tags, so new-line is supported\n",
    "* double click the following markdown cell to change\n",
    "* press shift+enter to view\n",
    "* Add explaining text:"
   ]
  },
  {
   "cell_type": "markdown",
   "id": "dd8565df-2778-4b89-83bd-6b227063789f",
   "metadata": {},
   "source": [
    "#### Add information in this Markdown cell (double click to change, shift-enter to view)\n",
    "<pre>\n",
    "\n",
    "\n",
    "\n",
    "\n",
    "    \n",
    "</pre>"
   ]
  },
  {
   "cell_type": "markdown",
   "id": "df67c2ee-87c8-499c-a04f-1853c332f51d",
   "metadata": {},
   "source": [
    "## Part 2 - Initial Preparations \n",
    "You could add as many code cells as needed"
   ]
  },
  {
   "cell_type": "code",
   "id": "b29b3454-b568-4614-8017-f15b3c59fc55",
   "metadata": {
    "ExecuteTime": {
     "end_time": "2025-05-11T10:14:22.177774Z",
     "start_time": "2025-05-11T10:14:21.831938Z"
    }
   },
   "source": [
    "import pandas as pd\n",
    "import numpy as np\n",
    "import matplotlib.pyplot as plt\n",
    "import sklearn as sk"
   ],
   "outputs": [],
   "execution_count": 1
  },
  {
   "cell_type": "code",
   "id": "4b47fe56-d611-4b28-be92-673db4d56400",
   "metadata": {
    "ExecuteTime": {
     "end_time": "2025-05-11T10:16:09.117226Z",
     "start_time": "2025-05-11T10:16:09.085349Z"
    }
   },
   "source": [
    "df1 = pd.read_csv(\"housing_test.csv\")\n",
    "df2 = pd.read_csv(\"housing_train.csv\")\n",
    "print(df1.head(), df2.head())"
   ],
   "outputs": [
    {
     "name": "stdout",
     "output_type": "stream",
     "text": [
      "   MedInc  HouseAge   AveRooms  AveBedrms  Population  AveOccup  Latitude  \\\n",
      "0  5.3254      32.0   5.786260   1.033079       982.0  2.498728     34.29   \n",
      "1  5.3032      52.0   5.095745   1.028369       980.0  3.475177     34.08   \n",
      "2  4.1679      41.0   6.617486   1.371585       915.0  2.500000     37.05   \n",
      "3  3.6429      28.0   5.249180   1.009836       848.0  2.780328     38.69   \n",
      "4  2.7457      17.0  11.183267   2.107570       675.0  2.689243     38.88   \n",
      "\n",
      "   Longitude  MedHouseVal  \n",
      "0    -119.27        3.852  \n",
      "1    -118.12        2.457  \n",
      "2    -122.05        2.013  \n",
      "3    -121.41        1.052  \n",
      "4    -119.99        1.078      MedInc  HouseAge  AveRooms  AveBedrms  Population  AveOccup  Latitude  \\\n",
      "0  4.0179      46.0  4.158690   1.032746       512.0  1.289673     34.07   \n",
      "1  2.7002       6.0  4.149245   1.179989      4092.0  2.287311     34.05   \n",
      "2  1.2762      17.0  3.432331   1.022556      1325.0  2.490602     34.42   \n",
      "3  4.9342      23.0  5.735798   1.053201      4580.0  4.129847     34.04   \n",
      "4  2.2755      21.0  4.064607   0.962079      2109.0  2.962079     32.58   \n",
      "\n",
      "   Longitude  MedHouseVal  \n",
      "0    -118.35        3.500  \n",
      "1    -117.31        0.883  \n",
      "2    -119.69        2.536  \n",
      "3    -117.93        1.810  \n",
      "4    -117.11        1.250  \n"
     ]
    }
   ],
   "execution_count": 3
  },
  {
   "cell_type": "code",
   "id": "53e27610-b640-4db0-80c9-789b5f5fae58",
   "metadata": {
    "ExecuteTime": {
     "end_time": "2025-05-11T10:10:36.264496Z",
     "start_time": "2025-05-11T10:10:36.261951Z"
    }
   },
   "source": "",
   "outputs": [],
   "execution_count": null
  },
  {
   "cell_type": "markdown",
   "id": "fb36672a",
   "metadata": {},
   "source": [
    "## Part 3 - Experiments\n",
    "You could add as many code cells as needed"
   ]
  },
  {
   "cell_type": "code",
   "execution_count": null,
   "id": "b7098585",
   "metadata": {},
   "outputs": [],
   "source": []
  },
  {
   "cell_type": "code",
   "execution_count": null,
   "id": "097afb02",
   "metadata": {},
   "outputs": [],
   "source": []
  },
  {
   "cell_type": "code",
   "execution_count": null,
   "id": "1fa9ec73",
   "metadata": {},
   "outputs": [],
   "source": []
  },
  {
   "cell_type": "code",
   "execution_count": null,
   "id": "937b653d",
   "metadata": {},
   "outputs": [],
   "source": []
  },
  {
   "cell_type": "markdown",
   "id": "67d97f11",
   "metadata": {},
   "source": [
    "## Part 4 - Training \n",
    "Use the best combination of feature engineering, model (algorithm and hyperparameters) from the experiment part (part 3)"
   ]
  },
  {
   "cell_type": "code",
   "execution_count": null,
   "id": "93713ead",
   "metadata": {},
   "outputs": [],
   "source": []
  },
  {
   "cell_type": "code",
   "execution_count": null,
   "id": "c0fc460d",
   "metadata": {},
   "outputs": [],
   "source": []
  },
  {
   "cell_type": "code",
   "execution_count": null,
   "id": "064ad0a0",
   "metadata": {},
   "outputs": [],
   "source": []
  },
  {
   "cell_type": "markdown",
   "id": "259ab902",
   "metadata": {},
   "source": [
    "## Part 5 - Apply on test and show model performance estimation"
   ]
  },
  {
   "cell_type": "code",
   "execution_count": null,
   "id": "d9971aa5",
   "metadata": {},
   "outputs": [],
   "source": []
  },
  {
   "cell_type": "code",
   "execution_count": null,
   "id": "00d8aa96",
   "metadata": {},
   "outputs": [],
   "source": []
  }
 ],
 "metadata": {
  "kernelspec": {
   "display_name": "Python 3 (ipykernel)",
   "language": "python",
   "name": "python3"
  },
  "language_info": {
   "codemirror_mode": {
    "name": "ipython",
    "version": 3
   },
   "file_extension": ".py",
   "mimetype": "text/x-python",
   "name": "python",
   "nbconvert_exporter": "python",
   "pygments_lexer": "ipython3",
   "version": "3.11.9"
  }
 },
 "nbformat": 4,
 "nbformat_minor": 5
}
